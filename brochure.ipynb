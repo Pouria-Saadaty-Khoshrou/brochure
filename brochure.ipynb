{
 "cells": [
  {
   "cell_type": "code",
   "execution_count": 6,
   "id": "a08f7c69-28b6-48cd-b5d2-4e0bbe33385c",
   "metadata": {},
   "outputs": [],
   "source": [
    "import os\n",
    "import requests\n",
    "import json\n",
    "from typing import List\n",
    "from dotenv import load_dotenv\n",
    "from IPython.display import Markdown, display\n",
    "from bs4 import BeautifulSoup\n",
    "from openai import OpenAI"
   ]
  },
  {
   "cell_type": "code",
   "execution_count": 82,
   "id": "4911324f-08ca-4fde-9eb3-6fe402233241",
   "metadata": {},
   "outputs": [],
   "source": [
    "load_dotenv(override=True)\n",
    "api_key = os.getenv('OPENAI_API_KEY')\n",
    "if not api_key:\n",
    "    print('couldn\\'t catch API key')\n",
    "model = 'gpt-4o-mini'\n",
    "openai = OpenAI()"
   ]
  },
  {
   "cell_type": "code",
   "execution_count": 55,
   "id": "db837fa6-fe14-47c2-b629-759aa96ec953",
   "metadata": {},
   "outputs": [],
   "source": [
    "headers = {\n",
    " \"User-Agent\": \"Mozilla/5.0 (Windows NT 10.0; Win64; x64) AppleWebKit/537.36 (KHTML, like Gecko) Chrome/117.0.0.0 Safari/537.36\"\n",
    "}\n",
    "\n",
    "class Website:\n",
    "\n",
    "    def __init__(self,url):\n",
    "        self.url =  url\n",
    "        response = requests.get(url, headers=headers)\n",
    "        soup = BeautifulSoup(response.content, 'html.parser')\n",
    "        self.title = soup.title.string if soup.title else ''\n",
    "        if soup.body:\n",
    "            for irrelevent in soup.body([\"script\", \"style\", \"img\", \"input\"]):\n",
    "                irrelevent.decompose()\n",
    "            self.text = soup.body.get_text(separator='\\n', strip=True)\n",
    "        else:\n",
    "            self.text = ''\n",
    "\n",
    "        links = [link.get('href') for link in soup.find_all('a')]\n",
    "        self.links = [link for link in links if link]\n",
    "\n",
    "    def website_content(self):\n",
    "        return (f'The page title is:{self.title}\\nThe content is:\\n{self.text}')"
   ]
  },
  {
   "cell_type": "code",
   "execution_count": 65,
   "id": "32280b58-2c74-4b56-9239-e76e932ea49b",
   "metadata": {},
   "outputs": [
    {
     "name": "stdout",
     "output_type": "stream",
     "text": [
      "Home - Edward Donner\n"
     ]
    }
   ],
   "source": [
    "#a = Website('https://www.nytimes.com/international/')\n",
    "a = Website('https://edwarddonner.com')\n",
    "print(a.title)"
   ]
  },
  {
   "cell_type": "code",
   "execution_count": 58,
   "id": "e493c36e-8fa1-444d-a9cb-6efd3233e78a",
   "metadata": {},
   "outputs": [],
   "source": [
    "#print(a.website_content())"
   ]
  },
  {
   "cell_type": "code",
   "execution_count": 120,
   "id": "6c88c291-1346-4b72-85a9-4958f00c0ba7",
   "metadata": {},
   "outputs": [],
   "source": [
    "link_system_prompt = \"You are provided with a list of links found on a webpage. \\\n",
    "You are able to decide which of the links would be most relevant to include in a brochure about the company, \\\n",
    "such as links to an About page, or a Company page, or Careers/Jobs pages.\\n\""
   ]
  },
  {
   "cell_type": "code",
   "execution_count": 124,
   "id": "e4237417-c5c8-4250-b32c-161000844427",
   "metadata": {},
   "outputs": [],
   "source": [
    "def get_links_user_prompt(website):\n",
    "    user_prompt = \"Here are the links:\\n\"\n",
    "    user_prompt += \"\\n\".join(website.links)\n",
    "    user_prompt+=\"\\nReturn only the most relevant ones in this JSON format:\\n\"\n",
    "    user_prompt+=\"\"\"{\n",
    "    \"links\": [\n",
    "        {\"type\": \"about page\", \"url\": \"https://full.url/goes/here/about\"},\n",
    "        {\"type\": \"careers page\", \"url\": \"https://another.full.url/careers\"}\n",
    "    ]\n",
    "    }\"\"\"\n",
    "    return user_prompt"
   ]
  },
  {
   "cell_type": "code",
   "execution_count": 125,
   "id": "c5f40dd1-07ce-4cd0-94ec-987dc4bca21d",
   "metadata": {},
   "outputs": [],
   "source": [
    "def get_relevant_links(url):\n",
    "    website = Website(url)\n",
    "    response = openai.chat.completions.create(\n",
    "        model=model, \n",
    "        messages=[\n",
    "        {'role': 'system', 'content': link_system_prompt},\n",
    "        {'role': 'user', 'content': get_links_user_prompt(website)}\n",
    "        ],\n",
    "        response_format={\"type\": \"json_object\"}\n",
    "    )\n",
    "    result = response.choices[0].message.content\n",
    "    return json.loads(result)"
   ]
  },
  {
   "cell_type": "code",
   "execution_count": null,
   "id": "8d4a9cee-2ff1-4f0d-b8f3-1a2f673dce1a",
   "metadata": {},
   "outputs": [],
   "source": [
    "get_relevant_links('https://huggingface.co')"
   ]
  },
  {
   "cell_type": "code",
   "execution_count": null,
   "id": "2b6366c7-f0b0-41f0-b25c-390f70444257",
   "metadata": {},
   "outputs": [],
   "source": []
  }
 ],
 "metadata": {
  "kernelspec": {
   "display_name": "Python 3 (ipykernel)",
   "language": "python",
   "name": "python3"
  },
  "language_info": {
   "codemirror_mode": {
    "name": "ipython",
    "version": 3
   },
   "file_extension": ".py",
   "mimetype": "text/x-python",
   "name": "python",
   "nbconvert_exporter": "python",
   "pygments_lexer": "ipython3",
   "version": "3.11.11"
  }
 },
 "nbformat": 4,
 "nbformat_minor": 5
}
