{
 "cells": [
  {
   "cell_type": "code",
   "execution_count": 6,
   "id": "a08f7c69-28b6-48cd-b5d2-4e0bbe33385c",
   "metadata": {},
   "outputs": [],
   "source": [
    "import os\n",
    "import requests\n",
    "import json\n",
    "from typing import List\n",
    "from dotenv import load_dotenv\n",
    "from IPython.display import Markdown, display\n",
    "from bs4 import BeautifulSoup\n",
    "from openai import OpenAI"
   ]
  },
  {
   "cell_type": "code",
   "execution_count": 13,
   "id": "4911324f-08ca-4fde-9eb3-6fe402233241",
   "metadata": {},
   "outputs": [],
   "source": [
    "load_dotenv(override=True)\n",
    "api_key = os.getenv('OPENAI_API_KEY')\n",
    "if not api_key:\n",
    "    print('couldn\\'t catch API key')"
   ]
  },
  {
   "cell_type": "code",
   "execution_count": 29,
   "id": "db837fa6-fe14-47c2-b629-759aa96ec953",
   "metadata": {},
   "outputs": [],
   "source": [
    "headers = {\n",
    " \"User-Agent\": \"Mozilla/5.0 (Windows NT 10.0; Win64; x64) AppleWebKit/537.36 (KHTML, like Gecko) Chrome/117.0.0.0 Safari/537.36\"\n",
    "}\n",
    "\n",
    "class Website:\n",
    "\n",
    "    def __init__(self,url):\n",
    "        self.url =  url\n",
    "        response = requests.get(url, headers=headers)\n",
    "        soup = BeautifulSoup(response.content, 'html.parser')\n",
    "        self.title = soup.title.string if soup.title else ''\n",
    "        self.content = soup.body\n",
    "        for irrelevent in soup.body([\"script\", \"style\", \"img\", \"input\"]):\n",
    "            irrelevent.decompose()\n",
    "        self.text = soup.body"
   ]
  },
  {
   "cell_type": "code",
   "execution_count": 30,
   "id": "32280b58-2c74-4b56-9239-e76e932ea49b",
   "metadata": {},
   "outputs": [],
   "source": [
    "a = Website('https://www.nytimes.com/international/')\n",
    "a.t"
   ]
  },
  {
   "cell_type": "code",
   "execution_count": null,
   "id": "e493c36e-8fa1-444d-a9cb-6efd3233e78a",
   "metadata": {},
   "outputs": [],
   "source": []
  }
 ],
 "metadata": {
  "kernelspec": {
   "display_name": "Python 3 (ipykernel)",
   "language": "python",
   "name": "python3"
  },
  "language_info": {
   "codemirror_mode": {
    "name": "ipython",
    "version": 3
   },
   "file_extension": ".py",
   "mimetype": "text/x-python",
   "name": "python",
   "nbconvert_exporter": "python",
   "pygments_lexer": "ipython3",
   "version": "3.11.11"
  }
 },
 "nbformat": 4,
 "nbformat_minor": 5
}
