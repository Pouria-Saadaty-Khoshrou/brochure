{
 "cells": [
  {
   "cell_type": "code",
   "execution_count": 2,
   "id": "a08f7c69-28b6-48cd-b5d2-4e0bbe33385c",
   "metadata": {},
   "outputs": [],
   "source": [
    "import os\n",
    "import requests\n",
    "import json\n",
    "from typing import List\n",
    "from dotenv import load_dotenv\n",
    "from IPython.display import Markdown, display\n",
    "from bs4 import BeautifulSoup\n",
    "from openai import OpenAI"
   ]
  },
  {
   "cell_type": "code",
   "execution_count": 3,
   "id": "4911324f-08ca-4fde-9eb3-6fe402233241",
   "metadata": {},
   "outputs": [],
   "source": [
    "load_dotenv(override=True)\n",
    "api_key = os.getenv('OPENAI_API_KEY')\n",
    "if not api_key:\n",
    "    print('couldn\\'t catch API key')\n",
    "model = 'gpt-4o-mini'\n",
    "openai = OpenAI()"
   ]
  },
  {
   "cell_type": "code",
   "execution_count": 4,
   "id": "db837fa6-fe14-47c2-b629-759aa96ec953",
   "metadata": {},
   "outputs": [],
   "source": [
    "headers = {\n",
    " \"User-Agent\": \"Mozilla/5.0 (Windows NT 10.0; Win64; x64) AppleWebKit/537.36 (KHTML, like Gecko) Chrome/117.0.0.0 Safari/537.36\"\n",
    "}\n",
    "\n",
    "class Website:\n",
    "\n",
    "    def __init__(self,url):\n",
    "        self.url =  url\n",
    "        response = requests.get(url, headers=headers)\n",
    "        soup = BeautifulSoup(response.content, 'html.parser')\n",
    "        self.title = soup.title.string if soup.title else ''\n",
    "        if soup.body:\n",
    "            for irrelevent in soup.body([\"script\", \"style\", \"img\", \"input\"]):\n",
    "                irrelevent.decompose()\n",
    "            self.text = soup.body.get_text(separator='\\n', strip=True)\n",
    "        else:\n",
    "            self.text = ''\n",
    "\n",
    "        links = [link.get('href') for link in soup.find_all('a')]\n",
    "        self.links = [link for link in links if link]\n",
    "\n",
    "    def website_content(self):\n",
    "        return (f'The page title is:{self.title}\\nThe content is:\\n{self.text}')"
   ]
  },
  {
   "cell_type": "code",
   "execution_count": 5,
   "id": "32280b58-2c74-4b56-9239-e76e932ea49b",
   "metadata": {},
   "outputs": [
    {
     "name": "stdout",
     "output_type": "stream",
     "text": [
      "Home - Edward Donner\n"
     ]
    }
   ],
   "source": [
    "#a = Website('https://www.nytimes.com/international/')\n",
    "a = Website('https://edwarddonner.com')\n",
    "print(a.title)"
   ]
  },
  {
   "cell_type": "code",
   "execution_count": 6,
   "id": "6c88c291-1346-4b72-85a9-4958f00c0ba7",
   "metadata": {},
   "outputs": [],
   "source": [
    "link_system_prompt = \"You are provided with a list of links found on a webpage. \\\n",
    "You are able to decide which of the links would be most relevant to include in a brochure about the company, \\\n",
    "such as links to an About page, or a Company page, or Careers/Jobs pages.\\n\"\n",
    "link_system_prompt += \"You should respond in JSON as in this example:\"\n",
    "link_system_prompt += \"\"\"\n",
    "{\n",
    "    \"links\": [\n",
    "        {\"type\": \"about page\", \"url\": \"https://full.url/goes/here/about\"},\n",
    "        {\"type\": \"careers page\": \"url\": \"https://another.full.url/careers\"}\n",
    "    ]\n",
    "}\n",
    "\"\"\""
   ]
  },
  {
   "cell_type": "code",
   "execution_count": 7,
   "id": "e4237417-c5c8-4250-b32c-161000844427",
   "metadata": {},
   "outputs": [],
   "source": [
    "def get_links_user_prompt(website):\n",
    "    user_prompt = f\"Here is the list of links on the website of {website.url} - \"\n",
    "    user_prompt += \"please decide which of these are relevant web links for a brochure about the company, respond with the full https URL in JSON format. \\\n",
    "    Do not include Terms of Service, Privacy, email links.\\n\"\n",
    "    user_prompt += \"Links (some might be relative links):\\n\"\n",
    "    user_prompt += \"\\n\".join(website.links)\n",
    "    return user_prompt"
   ]
  },
  {
   "cell_type": "code",
   "execution_count": 8,
   "id": "c5f40dd1-07ce-4cd0-94ec-987dc4bca21d",
   "metadata": {},
   "outputs": [],
   "source": [
    "def get_relevant_links(url):\n",
    "    website = Website(url)\n",
    "    response = openai.chat.completions.create(\n",
    "        model=model, \n",
    "        messages=[\n",
    "        {'role': 'system', 'content': link_system_prompt},\n",
    "        {'role': 'user', 'content': get_links_user_prompt(website)}\n",
    "        ],\n",
    "        response_format={\"type\": \"json_object\"}\n",
    "    )\n",
    "    result = response.choices[0].message.content\n",
    "    return json.loads(result)"
   ]
  },
  {
   "cell_type": "code",
   "execution_count": 130,
   "id": "8d4a9cee-2ff1-4f0d-b8f3-1a2f673dce1a",
   "metadata": {},
   "outputs": [
    {
     "data": {
      "text/plain": [
       "{'links': [{'type': 'about page', 'url': 'https://huggingface.co/huggingface'},\n",
       "  {'type': 'careers page', 'url': 'https://apply.workable.com/huggingface/'},\n",
       "  {'type': 'enterprise page', 'url': 'https://huggingface.co/enterprise'},\n",
       "  {'type': 'pricing page', 'url': 'https://huggingface.co/pricing'},\n",
       "  {'type': 'blog page', 'url': 'https://huggingface.co/blog'},\n",
       "  {'type': 'community discussion page',\n",
       "   'url': 'https://discuss.huggingface.co'},\n",
       "  {'type': 'company social media page',\n",
       "   'url': 'https://twitter.com/huggingface'},\n",
       "  {'type': 'company social media page',\n",
       "   'url': 'https://www.linkedin.com/company/huggingface/'}]}"
      ]
     },
     "execution_count": 130,
     "metadata": {},
     "output_type": "execute_result"
    }
   ],
   "source": [
    "get_relevant_links('https://huggingface.co')"
   ]
  },
  {
   "cell_type": "code",
   "execution_count": 11,
   "id": "b301d6b5-f2a3-4d69-b05d-53cdc3714585",
   "metadata": {},
   "outputs": [],
   "source": [
    "def get_all_details(url):\n",
    "    content = f\"Landing page:\\n: {Website(url).website_content()}\"\n",
    "    links = get_relevant_links(url)\n",
    "    for link in links['links']:\n",
    "        content += f\"\\n\\n{link['type']}\\n\"\n",
    "        content += Website(link[\"url\"]).website_content()\n",
    "    return content"
   ]
  },
  {
   "cell_type": "code",
   "execution_count": 16,
   "id": "051d9bb9-80ba-4e7c-b9e8-4b88afa36a12",
   "metadata": {},
   "outputs": [],
   "source": [
    "#print(get_all_details('https://huggingface.co'))"
   ]
  },
  {
   "cell_type": "code",
   "execution_count": 21,
   "id": "2b6366c7-f0b0-41f0-b25c-390f70444257",
   "metadata": {},
   "outputs": [],
   "source": [
    "system_prompt = \"You are an assistant that analyzes the contents of several relevant pages from a company website \\\n",
    "and creates a short brochure about the company for prospective customers, investors and recruits. Respond in markdown.\\\n",
    "Include details of company culture, customers and careers/jobs if you have the information.\""
   ]
  },
  {
   "cell_type": "code",
   "execution_count": 22,
   "id": "f9ef197a-eab5-4071-8633-7921a3883c2d",
   "metadata": {},
   "outputs": [],
   "source": [
    "def get_brochure_user_prompt(company_name, url):\n",
    "    user_prompt = f\"You are looking at a company called: {company_name}\\n\"\n",
    "    user_prompt += f\"Here are the contents of its landing page and other relevant pages; use this information to build a short brochure of the company in markdown.\\n\"\n",
    "    user_prompt += get_all_details(url)\n",
    "    user_prompt = user_prompt # Truncate if more than 5,000 characters\n",
    "    return user_prompt"
   ]
  },
  {
   "cell_type": "code",
   "execution_count": 19,
   "id": "3c855d64-a03c-4fc5-9951-ba43af317952",
   "metadata": {},
   "outputs": [],
   "source": [
    "def create_brochure(company_name, url):\n",
    "    response = openai.chat.completions.create(\n",
    "        model=model,\n",
    "        messages = [\n",
    "        {'role': 'system' , 'content': system_prompt},\n",
    "        {'role': 'user' , 'content': get_brochure_user_prompt(company_name, url)}\n",
    "        ]\n",
    "    )\n",
    "    result = response.choices[0].message.content\n",
    "    return result"
   ]
  },
  {
   "cell_type": "code",
   "execution_count": 23,
   "id": "95a3a521-1d18-4279-ac8f-ccea87d0cb1e",
   "metadata": {},
   "outputs": [],
   "source": [
    "result = create_brochure(\"HuggingFace\", \"https://huggingface.co\")"
   ]
  },
  {
   "cell_type": "code",
   "execution_count": 24,
   "id": "c7379a1f-0335-495e-aed8-84c0c0b4e921",
   "metadata": {},
   "outputs": [
    {
     "data": {
      "text/markdown": [
       "# Hugging Face Company Brochure\n",
       "\n",
       "## Welcome to Hugging Face\n",
       "**The AI community building the future.**  \n",
       "At Hugging Face, we are on a mission to democratize machine learning by providing a collaborative platform for creators, researchers, and enterprises. Our community is where AI enthusiasts come together to explore and innovate, working with models, datasets, and applications across various domains.\n",
       "\n",
       "## What We Offer\n",
       "- **1M+ Models & 250k+ Datasets:** Explore a vast library of machine learning models and datasets. Our platform supports collaboration on an unlimited number of public resources, enabling faster and more effective development in the AI space.\n",
       "- **AI Apps:** Discover AI applications created by our community. Whether it’s generating images or building conversational AI, there’s a solution for every problem.\n",
       "- **Enterprise Solutions:** We provide specialized compute solutions and enterprise-grade security, ensuring that organizations can innovate securely and efficiently.\n",
       "\n",
       "## Our Customers\n",
       "Hugging Face is proud to serve over **50,000 organizations**, including industry leaders like:\n",
       "- **Microsoft**\n",
       "- **Google**\n",
       "- **Amazon**\n",
       "- **Intel**\n",
       "- **Grammarly**\n",
       "\n",
       "These organizations leverage our cutting-edge technology and comprehensive support to enhance their AI capabilities.\n",
       "\n",
       "## Company Culture\n",
       "At Hugging Face, we believe in:\n",
       "\n",
       "- **Collaboration:** Our work environment encourages team collaboration, sharing ideas, and learning from each other. \n",
       "- **Open Source:** Our commitment to open-source initiatives supports the collective growth of the AI community, as we share our technologies and models with the world.\n",
       "- **Innovation:** We foster a culture of creativity and experimentation, empowering our team to push the boundaries of what AI can achieve.\n",
       "\n",
       "## Careers at Hugging Face\n",
       "Join our passionate team of about **213 individuals** dedicated to making a difference in the machine learning landscape. We are always looking for innovative minds to help us tackle the challenges of AI. Our roles span across various functions including engineering, research, marketing, and community support.\n",
       "\n",
       "### Benefits of Working with Us:\n",
       "- Work on groundbreaking AI technologies.\n",
       "- Collaborative work environment.\n",
       "- Flexible and inclusive workplace that values diverse perspectives.\n",
       "- Opportunities for professional growth and development.\n",
       "  \n",
       "### Join Us\n",
       "**Explore Opportunities:**  \n",
       "We are eager to expand our team with talented individuals who resonate with our mission. [Check out our job openings!](https://huggingface.co/jobs)\n",
       "\n",
       "---\n",
       "\n",
       "## Connect with Us\n",
       "Stay updated with our latest developments, articles, and community discussions:\n",
       "- [GitHub](https://github.com/huggingface)\n",
       "- [Twitter](https://twitter.com/huggingface)\n",
       "- [LinkedIn](https://www.linkedin.com/company/huggingface)\n",
       "\n",
       "### Let's Build the Future of AI Together!  \n",
       "Join us at Hugging Face and be part of a community that is shaping the future of machine learning. Sign up today at [huggingface.co](https://huggingface.co). \n",
       "\n",
       "--- \n",
       "\n",
       "© 2023 Hugging Face, Inc. All rights reserved."
      ],
      "text/plain": [
       "<IPython.core.display.Markdown object>"
      ]
     },
     "metadata": {},
     "output_type": "display_data"
    }
   ],
   "source": [
    "display(Markdown(result))"
   ]
  },
  {
   "cell_type": "markdown",
   "id": "bb5de7a0-29b1-4616-b460-b165fc4c7c2a",
   "metadata": {},
   "source": [
    "## Translate to other lang"
   ]
  }
 ],
 "metadata": {
  "kernelspec": {
   "display_name": "Python 3 (ipykernel)",
   "language": "python",
   "name": "python3"
  },
  "language_info": {
   "codemirror_mode": {
    "name": "ipython",
    "version": 3
   },
   "file_extension": ".py",
   "mimetype": "text/x-python",
   "name": "python",
   "nbconvert_exporter": "python",
   "pygments_lexer": "ipython3",
   "version": "3.11.11"
  }
 },
 "nbformat": 4,
 "nbformat_minor": 5
}
