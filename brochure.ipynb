{
 "cells": [
  {
   "cell_type": "code",
   "execution_count": 6,
   "id": "a08f7c69-28b6-48cd-b5d2-4e0bbe33385c",
   "metadata": {},
   "outputs": [],
   "source": [
    "import os\n",
    "import requests\n",
    "import json\n",
    "from typing import List\n",
    "from dotenv import load_dotenv\n",
    "from IPython.display import Markdown, display\n",
    "from bs4 import BeautifulSoup\n",
    "from openai import OpenAI"
   ]
  },
  {
   "cell_type": "code",
   "execution_count": 13,
   "id": "4911324f-08ca-4fde-9eb3-6fe402233241",
   "metadata": {},
   "outputs": [],
   "source": [
    "load_dotenv(override=True)\n",
    "api_key = os.getenv('OPENAI_API_KEY')\n",
    "if not api_key:\n",
    "    print('couldn\\'t catch API key')"
   ]
  },
  {
   "cell_type": "code",
   "execution_count": 55,
   "id": "db837fa6-fe14-47c2-b629-759aa96ec953",
   "metadata": {},
   "outputs": [],
   "source": [
    "headers = {\n",
    " \"User-Agent\": \"Mozilla/5.0 (Windows NT 10.0; Win64; x64) AppleWebKit/537.36 (KHTML, like Gecko) Chrome/117.0.0.0 Safari/537.36\"\n",
    "}\n",
    "\n",
    "class Website:\n",
    "\n",
    "    def __init__(self,url):\n",
    "        self.url =  url\n",
    "        response = requests.get(url, headers=headers)\n",
    "        soup = BeautifulSoup(response.content, 'html.parser')\n",
    "        self.title = soup.title.string if soup.title else ''\n",
    "        if soup.body:\n",
    "            for irrelevent in soup.body([\"script\", \"style\", \"img\", \"input\"]):\n",
    "                irrelevent.decompose()\n",
    "            self.text = soup.body.get_text(separator='\\n', strip=True)\n",
    "        else:\n",
    "            self.text = ''\n",
    "\n",
    "        links = [link.get('href') for link in soup.find_all('a')]\n",
    "        self.links = [link for link in links if link]\n",
    "\n",
    "    def website_content(self):\n",
    "        return (f'The page title is:{self.title}\\nThe content is:\\n{self.text}')"
   ]
  },
  {
   "cell_type": "code",
   "execution_count": 65,
   "id": "32280b58-2c74-4b56-9239-e76e932ea49b",
   "metadata": {},
   "outputs": [
    {
     "name": "stdout",
     "output_type": "stream",
     "text": [
      "Home - Edward Donner\n"
     ]
    }
   ],
   "source": [
    "#a = Website('https://www.nytimes.com/international/')\n",
    "a = Website('https://edwarddonner.com')\n",
    "print(a.title)"
   ]
  },
  {
   "cell_type": "code",
   "execution_count": 58,
   "id": "e493c36e-8fa1-444d-a9cb-6efd3233e78a",
   "metadata": {},
   "outputs": [],
   "source": [
    "#print(a.website_content())"
   ]
  },
  {
   "cell_type": "code",
   "execution_count": 62,
   "id": "6c88c291-1346-4b72-85a9-4958f00c0ba7",
   "metadata": {},
   "outputs": [],
   "source": [
    "link_system_prompt =\n",
    "    \"You are a brochure assistant. From a list of website links, \"\n",
    "    \"select the ones most relevant for describing the company — such as About, Mission, Services, or Careers pages. \"\n",
    "    \"Your goal is to choose links that best represent the company's identity for a brochure.\"\n"
   ]
  },
  {
   "cell_type": "code",
   "execution_count": 76,
   "id": "e4237417-c5c8-4250-b32c-161000844427",
   "metadata": {},
   "outputs": [],
   "source": [
    "def get_links_user_prompt(website):\n",
    "    user_prompt = \"Here are the links:\\n\"\n",
    "    user_prompt += \"\\n\".join(website.links)\n",
    "    user_prompt+=\"\\nReturn only the most relevant ones in this JSON format:\\n\"\n",
    "    user_prompt+=\"\"\"{\n",
    "    \"links\": [\n",
    "        {\"type\": \"about page\", \"url\": \"https://full.url/goes/here/about\"},\n",
    "        {\"type\": \"careers page\", \"url\": \"https://another.full.url/careers\"}\n",
    "    ]\n",
    "    }\"\"\"\n",
    "    return user_prompt"
   ]
  },
  {
   "cell_type": "code",
   "execution_count": 78,
   "id": "0f9f8a57-c3a0-4988-88d5-45e23b3c7578",
   "metadata": {},
   "outputs": [
    {
     "name": "stdout",
     "output_type": "stream",
     "text": [
      "Here are the links:\n",
      "https://edwarddonner.com/\n",
      "https://edwarddonner.com/connect-four/\n",
      "https://edwarddonner.com/outsmart/\n",
      "https://edwarddonner.com/about-me-and-about-nebula/\n",
      "https://edwarddonner.com/posts/\n",
      "https://edwarddonner.com/\n",
      "https://news.ycombinator.com\n",
      "https://nebula.io/?utm_source=ed&utm_medium=referral\n",
      "https://www.prnewswire.com/news-releases/wynden-stark-group-acquires-nyc-venture-backed-tech-startup-untapt-301269512.html\n",
      "https://patents.google.com/patent/US20210049536A1/\n",
      "https://www.linkedin.com/in/eddonner/\n",
      "https://edwarddonner.com/2025/01/23/llm-workshop-hands-on-with-agents-resources/\n",
      "https://edwarddonner.com/2025/01/23/llm-workshop-hands-on-with-agents-resources/\n",
      "https://edwarddonner.com/2024/12/21/llm-resources-superdatascience/\n",
      "https://edwarddonner.com/2024/12/21/llm-resources-superdatascience/\n",
      "https://edwarddonner.com/2024/11/13/llm-engineering-resources/\n",
      "https://edwarddonner.com/2024/11/13/llm-engineering-resources/\n",
      "https://edwarddonner.com/2024/10/16/from-software-engineer-to-ai-data-scientist-resources/\n",
      "https://edwarddonner.com/2024/10/16/from-software-engineer-to-ai-data-scientist-resources/\n",
      "https://edwarddonner.com/\n",
      "https://edwarddonner.com/connect-four/\n",
      "https://edwarddonner.com/outsmart/\n",
      "https://edwarddonner.com/about-me-and-about-nebula/\n",
      "https://edwarddonner.com/posts/\n",
      "mailto:hello@mygroovydomain.com\n",
      "https://www.linkedin.com/in/eddonner/\n",
      "https://twitter.com/edwarddonner\n",
      "https://www.facebook.com/edward.donner.52\n",
      "Return only the most relevant ones in this JSON format:\n",
      "{\n",
      "    \"links\": [\n",
      "        {\"type\": \"about page\", \"url\": \"https://full.url/goes/here/about\"},\n",
      "        {\"type\": \"careers page\", \"url\": \"https://another.full.url/careers\"}\n",
      "    ]\n",
      "    }\n"
     ]
    }
   ],
   "source": [
    "print(get_links_user_prompt(a))"
   ]
  },
  {
   "cell_type": "code",
   "execution_count": null,
   "id": "7611ea79-bcf6-4dc9-8e71-29a07134dd5e",
   "metadata": {},
   "outputs": [],
   "source": []
  }
 ],
 "metadata": {
  "kernelspec": {
   "display_name": "Python 3 (ipykernel)",
   "language": "python",
   "name": "python3"
  },
  "language_info": {
   "codemirror_mode": {
    "name": "ipython",
    "version": 3
   },
   "file_extension": ".py",
   "mimetype": "text/x-python",
   "name": "python",
   "nbconvert_exporter": "python",
   "pygments_lexer": "ipython3",
   "version": "3.11.11"
  }
 },
 "nbformat": 4,
 "nbformat_minor": 5
}
